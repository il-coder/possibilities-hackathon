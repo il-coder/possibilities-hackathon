{
 "cells": [
  {
   "cell_type": "code",
   "execution_count": 1,
   "id": "af976a96",
   "metadata": {},
   "outputs": [],
   "source": [
    "# import libraries\n",
    "\n",
    "import pandas as pd # pandas library \n",
    "import numpy as np # numerical python library\n",
    "import matplotlib.pyplot as plt # plotting library\n",
    "\n",
    "\n",
    "import sklearn as sk\n",
    "from sklearn.model_selection import KFold, cross_val_score, train_test_split\n",
    "from sklearn.metrics import classification_report, accuracy_score\n",
    "\n",
    "from datetime import datetime, timedelta, date\n",
    "\n",
    "from __future__ import division # use / to perform floor division\n",
    "\n",
    "# show charts and graphs inline in jupyter notebook\n",
    "%matplotlib inline "
   ]
  },
  {
   "cell_type": "code",
   "execution_count": 2,
   "id": "8e6c14f9",
   "metadata": {},
   "outputs": [],
   "source": [
    "# here we import algorithms\n",
    "\n",
    "from sklearn.svm import SVC\n",
    "from sklearn.cluster import KMeans\n",
    "from sklearn.multioutput import MultiOutputClassifier\n",
    "from sklearn.ensemble import GradientBoostingClassifier\n",
    "from sklearn.tree import DecisionTreeClassifier\n",
    "from sklearn.neighbors import KNeighborsClassifier\n",
    "from sklearn.naive_bayes import GaussianNB\n",
    "from sklearn.ensemble import RandomForestClassifier\n",
    "from sklearn.linear_model import LogisticRegression\n",
    "from sklearn.neural_network import MLPClassifier"
   ]
  },
  {
   "cell_type": "code",
   "execution_count": 3,
   "id": "126eaa38",
   "metadata": {},
   "outputs": [],
   "source": [
    "#supress all the warnings of deprecation\n",
    "\n",
    "import warnings\n",
    "warnings.filterwarnings(\"ignore\")"
   ]
  },
  {
   "cell_type": "code",
   "execution_count": 4,
   "id": "1b27fb78",
   "metadata": {},
   "outputs": [],
   "source": [
    "#read data\n",
    "raw_data = pd.read_csv('dataset/train.csv') "
   ]
  },
  {
   "cell_type": "code",
   "execution_count": 5,
   "id": "4c2715e8",
   "metadata": {},
   "outputs": [
    {
     "data": {
      "text/plain": [
       "(955390, 10)"
      ]
     },
     "execution_count": 5,
     "metadata": {},
     "output_type": "execute_result"
    }
   ],
   "source": [
    "raw_data.shape"
   ]
  },
  {
   "cell_type": "code",
   "execution_count": 7,
   "id": "fbaf2a86",
   "metadata": {},
   "outputs": [
    {
     "data": {
      "text/html": [
       "<div>\n",
       "<style scoped>\n",
       "    .dataframe tbody tr th:only-of-type {\n",
       "        vertical-align: middle;\n",
       "    }\n",
       "\n",
       "    .dataframe tbody tr th {\n",
       "        vertical-align: top;\n",
       "    }\n",
       "\n",
       "    .dataframe thead th {\n",
       "        text-align: right;\n",
       "    }\n",
       "</style>\n",
       "<table border=\"1\" class=\"dataframe\">\n",
       "  <thead>\n",
       "    <tr style=\"text-align: right;\">\n",
       "      <th></th>\n",
       "      <th>index</th>\n",
       "      <th>serviced_from_city</th>\n",
       "      <th>customer_locality</th>\n",
       "      <th>customer</th>\n",
       "      <th>transaction_date</th>\n",
       "      <th>brand</th>\n",
       "      <th>category</th>\n",
       "      <th>product</th>\n",
       "      <th>ordered_qty</th>\n",
       "      <th>ordered_amount</th>\n",
       "    </tr>\n",
       "  </thead>\n",
       "  <tbody>\n",
       "    <tr>\n",
       "      <th>0</th>\n",
       "      <td>3</td>\n",
       "      <td>f072608736</td>\n",
       "      <td>b4a2215bbe</td>\n",
       "      <td>8352843b0e</td>\n",
       "      <td>2021-04-09</td>\n",
       "      <td>a63d2efcb1</td>\n",
       "      <td>Mehendi</td>\n",
       "      <td>Nisha Black Mehendi @100 Linkage</td>\n",
       "      <td>1</td>\n",
       "      <td>56.350000</td>\n",
       "    </tr>\n",
       "    <tr>\n",
       "      <th>1</th>\n",
       "      <td>4</td>\n",
       "      <td>f072608736</td>\n",
       "      <td>10c1ce7c59</td>\n",
       "      <td>765c513a35</td>\n",
       "      <td>2021-04-09</td>\n",
       "      <td>a63d2efcb1</td>\n",
       "      <td>Mehendi</td>\n",
       "      <td>Nisha Black Mehendi @100 Linkage</td>\n",
       "      <td>1</td>\n",
       "      <td>56.350000</td>\n",
       "    </tr>\n",
       "    <tr>\n",
       "      <th>2</th>\n",
       "      <td>5</td>\n",
       "      <td>f072608736</td>\n",
       "      <td>4b1ebbdcde</td>\n",
       "      <td>68843f3124</td>\n",
       "      <td>2021-12-11</td>\n",
       "      <td>a4c168f27a</td>\n",
       "      <td>Meat Masala</td>\n",
       "      <td>Suhana Meat Masala @5 Linkage</td>\n",
       "      <td>6</td>\n",
       "      <td>205.714284</td>\n",
       "    </tr>\n",
       "    <tr>\n",
       "      <th>3</th>\n",
       "      <td>6</td>\n",
       "      <td>f072608736</td>\n",
       "      <td>71b1924106</td>\n",
       "      <td>9e8c1232f5</td>\n",
       "      <td>2021-12-11</td>\n",
       "      <td>a4c168f27a</td>\n",
       "      <td>Meat Masala</td>\n",
       "      <td>Suhana Meat Masala @5 Linkage</td>\n",
       "      <td>18</td>\n",
       "      <td>617.142852</td>\n",
       "    </tr>\n",
       "    <tr>\n",
       "      <th>4</th>\n",
       "      <td>7</td>\n",
       "      <td>f072608736</td>\n",
       "      <td>88e5b010b1</td>\n",
       "      <td>4829d8ecb1</td>\n",
       "      <td>2021-10-23</td>\n",
       "      <td>0d55b07506</td>\n",
       "      <td>Snacks</td>\n",
       "      <td>Yellow Diamond Chips Plain Salted @5 Linkage</td>\n",
       "      <td>4</td>\n",
       "      <td>231.560000</td>\n",
       "    </tr>\n",
       "  </tbody>\n",
       "</table>\n",
       "</div>"
      ],
      "text/plain": [
       "   index serviced_from_city customer_locality    customer transaction_date  \\\n",
       "0      3         f072608736        b4a2215bbe  8352843b0e       2021-04-09   \n",
       "1      4         f072608736        10c1ce7c59  765c513a35       2021-04-09   \n",
       "2      5         f072608736        4b1ebbdcde  68843f3124       2021-12-11   \n",
       "3      6         f072608736        71b1924106  9e8c1232f5       2021-12-11   \n",
       "4      7         f072608736        88e5b010b1  4829d8ecb1       2021-10-23   \n",
       "\n",
       "        brand     category                                       product  \\\n",
       "0  a63d2efcb1      Mehendi              Nisha Black Mehendi @100 Linkage   \n",
       "1  a63d2efcb1      Mehendi              Nisha Black Mehendi @100 Linkage   \n",
       "2  a4c168f27a  Meat Masala                 Suhana Meat Masala @5 Linkage   \n",
       "3  a4c168f27a  Meat Masala                 Suhana Meat Masala @5 Linkage   \n",
       "4  0d55b07506       Snacks  Yellow Diamond Chips Plain Salted @5 Linkage   \n",
       "\n",
       "   ordered_qty  ordered_amount  \n",
       "0            1       56.350000  \n",
       "1            1       56.350000  \n",
       "2            6      205.714284  \n",
       "3           18      617.142852  \n",
       "4            4      231.560000  "
      ]
     },
     "execution_count": 7,
     "metadata": {},
     "output_type": "execute_result"
    }
   ],
   "source": [
    "raw_data.head()"
   ]
  },
  {
   "cell_type": "code",
   "execution_count": 13,
   "id": "d232450b",
   "metadata": {},
   "outputs": [
    {
     "data": {
      "text/plain": [
       "0"
      ]
     },
     "execution_count": 13,
     "metadata": {},
     "output_type": "execute_result"
    }
   ],
   "source": [
    "df = raw_data\n",
    "df.isnull().sum().sum()"
   ]
  },
  {
   "cell_type": "code",
   "execution_count": 19,
   "id": "714c3798",
   "metadata": {},
   "outputs": [
    {
     "data": {
      "text/plain": [
       "count         955390\n",
       "unique           307\n",
       "top       2021-05-24\n",
       "freq            5767\n",
       "Name: transaction_date, dtype: object"
      ]
     },
     "execution_count": 19,
     "metadata": {},
     "output_type": "execute_result"
    }
   ],
   "source": [
    "df.transaction_date.describe()\n"
   ]
  },
  {
   "cell_type": "code",
   "execution_count": 24,
   "id": "db155da6",
   "metadata": {},
   "outputs": [
    {
     "data": {
      "text/html": [
       "<div>\n",
       "<style scoped>\n",
       "    .dataframe tbody tr th:only-of-type {\n",
       "        vertical-align: middle;\n",
       "    }\n",
       "\n",
       "    .dataframe tbody tr th {\n",
       "        vertical-align: top;\n",
       "    }\n",
       "\n",
       "    .dataframe thead th {\n",
       "        text-align: right;\n",
       "    }\n",
       "</style>\n",
       "<table border=\"1\" class=\"dataframe\">\n",
       "  <thead>\n",
       "    <tr style=\"text-align: right;\">\n",
       "      <th></th>\n",
       "      <th>customer</th>\n",
       "    </tr>\n",
       "  </thead>\n",
       "  <tbody>\n",
       "    <tr>\n",
       "      <th>0</th>\n",
       "      <td>8352843b0e</td>\n",
       "    </tr>\n",
       "    <tr>\n",
       "      <th>1</th>\n",
       "      <td>765c513a35</td>\n",
       "    </tr>\n",
       "    <tr>\n",
       "      <th>2</th>\n",
       "      <td>68843f3124</td>\n",
       "    </tr>\n",
       "    <tr>\n",
       "      <th>3</th>\n",
       "      <td>9e8c1232f5</td>\n",
       "    </tr>\n",
       "    <tr>\n",
       "      <th>4</th>\n",
       "      <td>4829d8ecb1</td>\n",
       "    </tr>\n",
       "    <tr>\n",
       "      <th>...</th>\n",
       "      <td>...</td>\n",
       "    </tr>\n",
       "    <tr>\n",
       "      <th>5995</th>\n",
       "      <td>b5057d86fd</td>\n",
       "    </tr>\n",
       "    <tr>\n",
       "      <th>5996</th>\n",
       "      <td>d513b92058</td>\n",
       "    </tr>\n",
       "    <tr>\n",
       "      <th>5997</th>\n",
       "      <td>cd839cac29</td>\n",
       "    </tr>\n",
       "    <tr>\n",
       "      <th>5998</th>\n",
       "      <td>f023f80e02</td>\n",
       "    </tr>\n",
       "    <tr>\n",
       "      <th>5999</th>\n",
       "      <td>588f6b23d5</td>\n",
       "    </tr>\n",
       "  </tbody>\n",
       "</table>\n",
       "<p>6000 rows × 1 columns</p>\n",
       "</div>"
      ],
      "text/plain": [
       "        customer\n",
       "0     8352843b0e\n",
       "1     765c513a35\n",
       "2     68843f3124\n",
       "3     9e8c1232f5\n",
       "4     4829d8ecb1\n",
       "...          ...\n",
       "5995  b5057d86fd\n",
       "5996  d513b92058\n",
       "5997  cd839cac29\n",
       "5998  f023f80e02\n",
       "5999  588f6b23d5\n",
       "\n",
       "[6000 rows x 1 columns]"
      ]
     },
     "execution_count": 24,
     "metadata": {},
     "output_type": "execute_result"
    }
   ],
   "source": [
    "users = pd.DataFrame(df.customer.unique(), columns=[\"customer\"])\n",
    "users"
   ]
  },
  {
   "cell_type": "code",
   "execution_count": null,
   "id": "3e71c8ad",
   "metadata": {},
   "outputs": [],
   "source": []
  }
 ],
 "metadata": {
  "kernelspec": {
   "display_name": "Python 3 (ipykernel)",
   "language": "python",
   "name": "python3"
  },
  "language_info": {
   "codemirror_mode": {
    "name": "ipython",
    "version": 3
   },
   "file_extension": ".py",
   "mimetype": "text/x-python",
   "name": "python",
   "nbconvert_exporter": "python",
   "pygments_lexer": "ipython3",
   "version": "3.9.7"
  }
 },
 "nbformat": 4,
 "nbformat_minor": 5
}
